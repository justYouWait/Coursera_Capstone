{
    "cells": [
        {
            "cell_type": "markdown",
            "metadata": {
                "collapsed": true
            },
            "source": "<h1 align=center><font size=5>Recommender System for Visiters to New York City Using Foursquare Data</font></h1>"
        },
        {
            "cell_type": "markdown",
            "metadata": {},
            "source": "## Introduction\n\nIn this project, we try to construct a recommender system for visitors. The user can send different categories of requirements such as venue type, reclusiveness and rating. In response, The system will make recommendations tailored to the user's requirement. This project may arouse the interest of some travel apps and recommendation apps like Yelp. We'll use New York City as an example."
        },
        {
            "cell_type": "markdown",
            "metadata": {},
            "source": "**We want to solve the following problem for visitors to NYC:**\n  * Which neighborhood should I go enjoy myself (or stay at) if i **enjoy food/sports/art...** and **want a busy/quiet environment** where **ratings are higher than a certain value**? "
        },
        {
            "cell_type": "markdown",
            "metadata": {},
            "source": "We'll create a model to solve the above problem."
        },
        {
            "cell_type": "markdown",
            "metadata": {},
            "source": "## Data"
        },
        {
            "cell_type": "markdown",
            "metadata": {},
            "source": "We'll use the **NYC neighborhood data** provided by the previous lab to get a list of neighborhoods in NYC.\n\nWe'll also utilize the **Foursquare API** for the following purposes:\n  * venue names & location\n  * venue category\n  * venue ratings\n  * venue check-ins\n"
        },
        {
            "cell_type": "markdown",
            "metadata": {},
            "source": "## Methodology"
        },
        {
            "cell_type": "markdown",
            "metadata": {},
            "source": "We define vague requirements as a dictionary with the following keys:\n  * Borough\n  * Neighborhood\n  * Features (food/sports/art...)\n  * Reclusiveness (busy/quiet/dont_care)\n  * Rating higher than \n  * Color by (relevance/rating)\n\nAccording to the demands of users, we establish a **relevance score** and a **rating score** for each neighborhood. The results will be visualized on an NYC map using the library **Folium**. They' ll be colorized according to  either relevance or rating.\n\nNext, we explain the calculations of the scores.\nFor **relevance score**, we first search the given \"Feature\" and get the top 5 most relevant categories using spaCy, we count the number of relevant venues and normalize it to get the relevance score. \nFor **rating score**, we average the ratings of all relevant venues and normalize it to get the rating score.\n\nIn addition, there's an **reclusiveness score**. If the user demands \"busy\", we sum the number of tips of all relevant venues in each neighborhood and normalize it to get that score; If \"quiet\", then we subtract 1 by that number. The final score will be given by combining the original score with the **reclusive score** by the ratio of 0.7:0.3 unless the user says \"dont_care\".  \n\nWe allow each of these fields except for \"Features\" to be a \"None\".\nFurthermore, for the sake of practicality, we will use **spaCy**, the NLP library, to allow **fuzzy searches**. For example, if we set \"Features\" to be \"food\", we will take into account venues such as restaurants, dessert shop and so on."
        },
        {
            "cell_type": "markdown",
            "metadata": {},
            "source": "# Results"
        },
        {
            "cell_type": "markdown",
            "metadata": {},
            "source": "We use the following requirement as an example."
        },
        {
            "cell_type": "code",
            "execution_count": 1,
            "metadata": {},
            "outputs": [],
            "source": "req = {\"Borough\":\"Bronx\", \"Neighborhood\": \"None\", \"Features\":[\"restaurant\", \"art\"], \n       \"Reclusiveness\":\"busy\", \"Rating higher than\": 7.0, \"Color by\":\"relevance\"}        "
        },
        {
            "cell_type": "markdown",
            "metadata": {},
            "source": "The result is as follows. As you can see, the color opacity indicates the final score, where a deeper color indicates a higher score. In our example, East Tremont is the neighborhood most correlated to \"restaurant\" and \"art\"."
        },
        {
            "cell_type": "markdown",
            "metadata": {},
            "source": "![alt text](https://github.com/justYouWait/Coursera_Capstone/blob/master/1.jpg?raw=true)\n"
        },
        {
            "cell_type": "markdown",
            "metadata": {},
            "source": "## Discussion"
        },
        {
            "cell_type": "markdown",
            "metadata": {},
            "source": "As we can see, the model can fulfill its duty quite well. Most of the recommendations are logical.\n\nHowever, our model is still a simple one. Room for progress may include using more NLP techiniques to mine the tips text to make the recommendations even more relevant. Also, audio recognition may be added so that the requirements can be detected automatically from natural language. Similar logic applies to businessman who wants to choose a location to open their business at."
        },
        {
            "cell_type": "markdown",
            "metadata": {},
            "source": "## Conclusion"
        },
        {
            "cell_type": "markdown",
            "metadata": {},
            "source": "In this project, we utilized Foursquare data to create a recommendation system for visitors to NYC, which received adequate result using spaCy and Folium. Of course, this model also applies to city around the world.  "
        }
    ],
    "metadata": {
        "kernelspec": {
            "display_name": "Python 3.6",
            "language": "python",
            "name": "python3"
        },
        "language_info": {
            "codemirror_mode": {
                "name": "ipython",
                "version": 3
            },
            "file_extension": ".py",
            "mimetype": "text/x-python",
            "name": "python",
            "nbconvert_exporter": "python",
            "pygments_lexer": "ipython3",
            "version": "3.6.9"
        }
    },
    "nbformat": 4,
    "nbformat_minor": 1
}